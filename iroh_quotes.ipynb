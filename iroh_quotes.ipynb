{
  "nbformat": 4,
  "nbformat_minor": 0,
  "metadata": {
    "colab": {
      "name": "iroh_quotes.ipynb",
      "provenance": [],
      "authorship_tag": "ABX9TyPYb6FvRJXx+oMQQnX2T+5G",
      "include_colab_link": true
    },
    "kernelspec": {
      "name": "python3",
      "display_name": "Python 3"
    },
    "language_info": {
      "name": "python"
    }
  },
  "cells": [
    {
      "cell_type": "markdown",
      "metadata": {
        "id": "view-in-github",
        "colab_type": "text"
      },
      "source": [
        "<a href=\"https://colab.research.google.com/github/a-dhingra/JupyterNotebooks/blob/master/iroh_quotes.ipynb\" target=\"_parent\"><img src=\"https://colab.research.google.com/assets/colab-badge.svg\" alt=\"Open In Colab\"/></a>"
      ]
    },
    {
      "cell_type": "code",
      "execution_count": 26,
      "metadata": {
        "colab": {
          "base_uri": "https://localhost:8080/"
        },
        "id": "Z8yJ69p0uqls",
        "outputId": "64913bf5-f841-48f0-de4d-ba85fb0e3f1f"
      },
      "outputs": [
        {
          "output_type": "stream",
          "name": "stderr",
          "text": [
            "/usr/local/lib/python3.7/dist-packages/bs4/__init__.py:179: UserWarning: You provided Unicode markup but also provided a value for from_encoding. Your from_encoding will be ignored.\n",
            "  warnings.warn(\"You provided Unicode markup but also provided a value for from_encoding. Your from_encoding will be ignored.\")\n"
          ]
        }
      ],
      "source": [
        "from bs4 import BeautifulSoup\n",
        "import requests\n",
        "\n",
        "web_response = requests.get('https://www.cbr.com/avatar-uncle-iroh-most-inspiring-quotes/', headers={\n",
        "\"User-Agent\" : \"Mozilla/5.0 (X11; Linux x86_64) AppleWebKit/537.36 (KHTML, like Gecko) Chrome/51.0.2704.103 Safari/537.36\"\n",
        "})\n",
        "web_response = BeautifulSoup(web_response.text)"
      ]
    },
    {
      "cell_type": "code",
      "source": [
        "iroh_list = []\n",
        "\n",
        "# for elem in web_response.find_all(class_=\"item-num\"):\n",
        "for elem in web_response.find_all(\"h2\"):\n",
        "  iroh_list.append(elem.text)\n"
      ],
      "metadata": {
        "id": "V0rgct_xvjeq"
      },
      "execution_count": 27,
      "outputs": []
    },
    {
      "cell_type": "code",
      "source": [
        "iroh_list\n"
      ],
      "metadata": {
        "colab": {
          "base_uri": "https://localhost:8080/"
        },
        "id": "r5UfjlOu0-GE",
        "outputId": "c4d482df-d60a-4a47-b1d0-3283de6fd30a"
      },
      "execution_count": 28,
      "outputs": [
        {
          "output_type": "execute_result",
          "data": {
            "text/plain": [
              "['20 \"THERE IS NOTHING WRONG WITH A LIFE OF PEACE AND PROSPERITY. I SUGGEST YOU THINK ABOUT WHAT IT IS YOU WANT FROM YOUR LIFE.\"',\n",
              " '19 \"BE CAREFUL WHAT YOU WISH FOR, ADMIRAL. HISTORY IS NOT ALWAYS KIND TO ITS SUBJECTS.\"',\n",
              " '18 \"AT MY AGE, THERE IS ONLY ONE BIG SURPRISE LEFT, AND I\\'D JUST AS SOON LEAVE IT A MYSTERY\"',\n",
              " '17 \"FAILURE IS ONLY THE OPPORTUNITY TO BEGIN AGAIN.\"',\n",
              " '16 \"SOMETIMES, THE BEST WAY TO SOLVE YOUR OWN PROBLEMS IS TO HELP SOMEONE ELSE.\"',\n",
              " '15 “PROTECTION AND POWER ARE OVERRATED. I THINK YOU ARE VERY WISE TO CHOOSE HAPPINESS AND LOVE.”',\n",
              " '14 \"GOOD TIMES BECOME GOOD MEMORIES, BUT BAD TIMES MAKE GOOD LESSONS.\"',\n",
              " '13 \"IT IS USUALLY BEST TO ADMIT MISTAKES WHEN THEY OCCUR, AND TO SEEK TO RESTORE HONOR.\"',\n",
              " '12 “POWER IN FIREBENDING COMES FROM THE BREATH, NOT THE MUSCLE!”',\n",
              " '11 \"IT IS IMPORTANT TO DRAW WISDOM FROM MANY DIFFERENT PLACES.\"',\n",
              " '10 \"IT\\'S TIME FOR YOU TO LOOK INWARD AND START ASKING YOURSELF THE BIG QUESTION: WHO ARE YOU AND WHAT DO YOU WANT?\"',\n",
              " '9 \"IF YOU LOOK FOR THE DARK, THAT IS ALL YOU WILL EVER SEE.\"',\n",
              " '8 \"SHARING TEA WITH A FASCINATING STRANGER IS ONE OF LIFE’S TRUE DELIGHTS.\"',\n",
              " '7 \"HOPE IS SOMETHING YOU GIVE YOURSELF. THAT IS THE MEANING OF INNER STRENGTH.\"',\n",
              " '6 \"SOMETIMES LIFE IS LIKE THIS DARK TUNNEL.\"',\n",
              " '5 \"DESTINY IS A FUNNY THING. YOU NEVER KNOW HOW THINGS ARE GOING TO WORK OUT.\"',\n",
              " '4 \"WHILE IT IS ALWAYS BEST TO BELIEVE IN ONESELF, A LITTLE HELP FROM OTHERS CAN BE A GREAT BLESSING.\"',\n",
              " '3 \"PRIDE IS NOT THE OPPOSITE OF SHAME, BUT ITS SOURCE. TRUE HUMILITY IS THE ONLY ANTIDOTE TO SHAME.\"',\n",
              " '2 \"LIFE HAPPENS WHEREVER YOU ARE, WHETHER YOU MAKE IT OR NOT.\"',\n",
              " '1 “I WAS NEVER ANGRY WITH YOU. I WAS SAD, BECAUSE I WAS AFRAID YOU’D LOSE YOUR WAY.”']"
            ]
          },
          "metadata": {},
          "execution_count": 28
        }
      ]
    },
    {
      "cell_type": "code",
      "source": [
        "new_iroh = [len(x.split('\"')) for x in iroh_list]\n",
        "new_iroh"
      ],
      "metadata": {
        "colab": {
          "base_uri": "https://localhost:8080/"
        },
        "id": "MU79aBsF0_Kr",
        "outputId": "746cd59d-216d-4a4b-f494-e381466043c1"
      },
      "execution_count": 30,
      "outputs": [
        {
          "output_type": "execute_result",
          "data": {
            "text/plain": [
              "[3, 3, 3, 3, 3, 1, 3, 3, 1, 3, 3, 3, 3, 3, 3, 3, 3, 3, 3, 1]"
            ]
          },
          "metadata": {},
          "execution_count": 30
        }
      ]
    },
    {
      "cell_type": "code",
      "source": [
        "print(web_response.original_encoding)"
      ],
      "metadata": {
        "colab": {
          "base_uri": "https://localhost:8080/"
        },
        "id": "G5QLieU32Lju",
        "outputId": "2a434894-1d8a-473d-b8d3-60a91ea4b5d4"
      },
      "execution_count": 29,
      "outputs": [
        {
          "output_type": "stream",
          "name": "stdout",
          "text": [
            "None\n"
          ]
        }
      ]
    },
    {
      "cell_type": "code",
      "source": [
        "import re\n",
        "pattern = '\\S+'\n",
        "\n",
        "new_iroh_2 = [re.findall(pattern, x) for x in iroh_list]\n",
        "\n",
        "new_iroh_2[:1]\n",
        "\n"
      ],
      "metadata": {
        "colab": {
          "base_uri": "https://localhost:8080/"
        },
        "id": "0OjpE5Zf3Izd",
        "outputId": "26cff46c-2cb6-418f-d32a-f2a2f151426f"
      },
      "execution_count": 39,
      "outputs": [
        {
          "output_type": "execute_result",
          "data": {
            "text/plain": [
              "[['20',\n",
              "  '\"THERE',\n",
              "  'IS',\n",
              "  'NOTHING',\n",
              "  'WRONG',\n",
              "  'WITH',\n",
              "  'A',\n",
              "  'LIFE',\n",
              "  'OF',\n",
              "  'PEACE',\n",
              "  'AND',\n",
              "  'PROSPERITY.',\n",
              "  'I',\n",
              "  'SUGGEST',\n",
              "  'YOU',\n",
              "  'THINK',\n",
              "  'ABOUT',\n",
              "  'WHAT',\n",
              "  'IT',\n",
              "  'IS',\n",
              "  'YOU',\n",
              "  'WANT',\n",
              "  'FROM',\n",
              "  'YOUR',\n",
              "  'LIFE.\"']]"
            ]
          },
          "metadata": {},
          "execution_count": 39
        }
      ]
    },
    {
      "cell_type": "code",
      "source": [
        "pattern2 = '\\d+'\n",
        "alt_iroh = [\" \".join(re.split(pattern2, x)) for x in iroh_list]\n",
        "alt_iroh = [x[3:-1] for x in alt_iroh]\n",
        "#alt_iroh = [\"\".join(x.split('.').capitalize()) for x in alt_iroh] \n",
        "\n",
        "alt_iroh_2 = []\n",
        "for x in alt_iroh:\n",
        "  sub2 = []\n",
        "  for y in x.split('.'):\n",
        "    y = y.strip().capitalize()\n",
        "    sub2.append(y)\n",
        "  alt_iroh_2.append(\".\".join(sub2))\n",
        "\n",
        "alt_iroh_2 = [re.sub('\"',\"'\",x) for x in alt_iroh_2]\n",
        "alt_iroh_2 = [re.sub(' i ',\" I \",x) for x in alt_iroh_2]\n",
        "alt_iroh_2 = [re.sub(\"i'd\",\"I'd\",x) for x in alt_iroh_2]\n",
        "\n",
        "alt_iroh_2"
      ],
      "metadata": {
        "colab": {
          "base_uri": "https://localhost:8080/"
        },
        "id": "Wp3Xgy8Pbhc0",
        "outputId": "b3bbf6b0-17f3-4c8d-90f6-801ef048454e"
      },
      "execution_count": 72,
      "outputs": [
        {
          "output_type": "execute_result",
          "data": {
            "text/plain": [
              "['There is nothing wrong with a life of peace and prosperity.I suggest you think about what it is you want from your life.',\n",
              " 'Be careful what you wish for, admiral.History is not always kind to its subjects.',\n",
              " \"At my age, there is only one big surprise left, and I'd just as soon leave it a mystery\",\n",
              " 'Failure is only the opportunity to begin again.',\n",
              " 'Sometimes, the best way to solve your own problems is to help someone else.',\n",
              " 'Protection and power are overrated.I think you are very wise to choose happiness and love.',\n",
              " 'Good times become good memories, but bad times make good lessons.',\n",
              " 'It is usually best to admit mistakes when they occur, and to seek to restore honor.',\n",
              " 'Power in firebending comes from the breath, not the muscle!',\n",
              " 'It is important to draw wisdom from many different places.',\n",
              " \"It's time for you to look inward and start asking yourself the big question: who are you and what do you want?\",\n",
              " 'If you look for the dark, that is all you will ever see.',\n",
              " 'Sharing tea with a fascinating stranger is one of life’s true delights.',\n",
              " 'Hope is something you give yourself.That is the meaning of inner strength.',\n",
              " 'Sometimes life is like this dark tunnel.',\n",
              " 'Destiny is a funny thing.You never know how things are going to work out.',\n",
              " 'While it is always best to believe in oneself, a little help from others can be a great blessing.',\n",
              " 'Pride is not the opposite of shame, but its source.True humility is the only antidote to shame.',\n",
              " 'Life happens wherever you are, whether you make it or not.',\n",
              " 'I was never angry with you.I was sad, because I was afraid you’d lose your way.']"
            ]
          },
          "metadata": {},
          "execution_count": 72
        }
      ]
    },
    {
      "cell_type": "code",
      "source": [
        ""
      ],
      "metadata": {
        "id": "0KxIrKN0Vq_f"
      },
      "execution_count": null,
      "outputs": []
    }
  ]
}