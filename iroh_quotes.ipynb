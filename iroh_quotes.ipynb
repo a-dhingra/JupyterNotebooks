{
  "nbformat": 4,
  "nbformat_minor": 0,
  "metadata": {
    "colab": {
      "name": "iroh_quotes.ipynb",
      "provenance": [],
      "authorship_tag": "ABX9TyMg9EaGoNCpcINdFvacnPna",
      "include_colab_link": true
    },
    "kernelspec": {
      "name": "python3",
      "display_name": "Python 3"
    },
    "language_info": {
      "name": "python"
    }
  },
  "cells": [
    {
      "cell_type": "markdown",
      "metadata": {
        "id": "view-in-github",
        "colab_type": "text"
      },
      "source": [
        "<a href=\"https://colab.research.google.com/github/a-dhingra/JupyterNotebooks/blob/master/iroh_quotes.ipynb\" target=\"_parent\"><img src=\"https://colab.research.google.com/assets/colab-badge.svg\" alt=\"Open In Colab\"/></a>"
      ]
    },
    {
      "cell_type": "code",
      "execution_count": 26,
      "metadata": {
        "colab": {
          "base_uri": "https://localhost:8080/"
        },
        "id": "Z8yJ69p0uqls",
        "outputId": "64913bf5-f841-48f0-de4d-ba85fb0e3f1f"
      },
      "outputs": [
        {
          "output_type": "stream",
          "name": "stderr",
          "text": [
            "/usr/local/lib/python3.7/dist-packages/bs4/__init__.py:179: UserWarning: You provided Unicode markup but also provided a value for from_encoding. Your from_encoding will be ignored.\n",
            "  warnings.warn(\"You provided Unicode markup but also provided a value for from_encoding. Your from_encoding will be ignored.\")\n"
          ]
        }
      ],
      "source": [
        "from bs4 import BeautifulSoup\n",
        "import requests\n",
        "\n",
        "web_response = requests.get('https://www.cbr.com/avatar-uncle-iroh-most-inspiring-quotes/', headers={\n",
        "\"User-Agent\" : \"Mozilla/5.0 (X11; Linux x86_64) AppleWebKit/537.36 (KHTML, like Gecko) Chrome/51.0.2704.103 Safari/537.36\"\n",
        "})\n",
        "web_response = BeautifulSoup(web_response.text)"
      ]
    },
    {
      "cell_type": "code",
      "source": [
        "iroh_list = []\n",
        "\n",
        "# for elem in web_response.find_all(class_=\"item-num\"):\n",
        "for elem in web_response.find_all(\"h2\"):\n",
        "  iroh_list.append(elem.text)\n"
      ],
      "metadata": {
        "id": "V0rgct_xvjeq"
      },
      "execution_count": 27,
      "outputs": []
    },
    {
      "cell_type": "code",
      "source": [
        "iroh_list\n"
      ],
      "metadata": {
        "colab": {
          "base_uri": "https://localhost:8080/"
        },
        "id": "r5UfjlOu0-GE",
        "outputId": "c4d482df-d60a-4a47-b1d0-3283de6fd30a"
      },
      "execution_count": 28,
      "outputs": [
        {
          "output_type": "execute_result",
          "data": {
            "text/plain": [
              "['20 \"THERE IS NOTHING WRONG WITH A LIFE OF PEACE AND PROSPERITY. I SUGGEST YOU THINK ABOUT WHAT IT IS YOU WANT FROM YOUR LIFE.\"',\n",
              " '19 \"BE CAREFUL WHAT YOU WISH FOR, ADMIRAL. HISTORY IS NOT ALWAYS KIND TO ITS SUBJECTS.\"',\n",
              " '18 \"AT MY AGE, THERE IS ONLY ONE BIG SURPRISE LEFT, AND I\\'D JUST AS SOON LEAVE IT A MYSTERY\"',\n",
              " '17 \"FAILURE IS ONLY THE OPPORTUNITY TO BEGIN AGAIN.\"',\n",
              " '16 \"SOMETIMES, THE BEST WAY TO SOLVE YOUR OWN PROBLEMS IS TO HELP SOMEONE ELSE.\"',\n",
              " '15 “PROTECTION AND POWER ARE OVERRATED. I THINK YOU ARE VERY WISE TO CHOOSE HAPPINESS AND LOVE.”',\n",
              " '14 \"GOOD TIMES BECOME GOOD MEMORIES, BUT BAD TIMES MAKE GOOD LESSONS.\"',\n",
              " '13 \"IT IS USUALLY BEST TO ADMIT MISTAKES WHEN THEY OCCUR, AND TO SEEK TO RESTORE HONOR.\"',\n",
              " '12 “POWER IN FIREBENDING COMES FROM THE BREATH, NOT THE MUSCLE!”',\n",
              " '11 \"IT IS IMPORTANT TO DRAW WISDOM FROM MANY DIFFERENT PLACES.\"',\n",
              " '10 \"IT\\'S TIME FOR YOU TO LOOK INWARD AND START ASKING YOURSELF THE BIG QUESTION: WHO ARE YOU AND WHAT DO YOU WANT?\"',\n",
              " '9 \"IF YOU LOOK FOR THE DARK, THAT IS ALL YOU WILL EVER SEE.\"',\n",
              " '8 \"SHARING TEA WITH A FASCINATING STRANGER IS ONE OF LIFE’S TRUE DELIGHTS.\"',\n",
              " '7 \"HOPE IS SOMETHING YOU GIVE YOURSELF. THAT IS THE MEANING OF INNER STRENGTH.\"',\n",
              " '6 \"SOMETIMES LIFE IS LIKE THIS DARK TUNNEL.\"',\n",
              " '5 \"DESTINY IS A FUNNY THING. YOU NEVER KNOW HOW THINGS ARE GOING TO WORK OUT.\"',\n",
              " '4 \"WHILE IT IS ALWAYS BEST TO BELIEVE IN ONESELF, A LITTLE HELP FROM OTHERS CAN BE A GREAT BLESSING.\"',\n",
              " '3 \"PRIDE IS NOT THE OPPOSITE OF SHAME, BUT ITS SOURCE. TRUE HUMILITY IS THE ONLY ANTIDOTE TO SHAME.\"',\n",
              " '2 \"LIFE HAPPENS WHEREVER YOU ARE, WHETHER YOU MAKE IT OR NOT.\"',\n",
              " '1 “I WAS NEVER ANGRY WITH YOU. I WAS SAD, BECAUSE I WAS AFRAID YOU’D LOSE YOUR WAY.”']"
            ]
          },
          "metadata": {},
          "execution_count": 28
        }
      ]
    },
    {
      "cell_type": "code",
      "source": [
        "new_iroh = [len(x.split('\"')) for x in iroh_list]\n",
        "new_iroh"
      ],
      "metadata": {
        "colab": {
          "base_uri": "https://localhost:8080/"
        },
        "id": "MU79aBsF0_Kr",
        "outputId": "746cd59d-216d-4a4b-f494-e381466043c1"
      },
      "execution_count": 30,
      "outputs": [
        {
          "output_type": "execute_result",
          "data": {
            "text/plain": [
              "[3, 3, 3, 3, 3, 1, 3, 3, 1, 3, 3, 3, 3, 3, 3, 3, 3, 3, 3, 1]"
            ]
          },
          "metadata": {},
          "execution_count": 30
        }
      ]
    },
    {
      "cell_type": "code",
      "source": [
        "print(web_response.original_encoding)"
      ],
      "metadata": {
        "colab": {
          "base_uri": "https://localhost:8080/"
        },
        "id": "G5QLieU32Lju",
        "outputId": "2a434894-1d8a-473d-b8d3-60a91ea4b5d4"
      },
      "execution_count": 29,
      "outputs": [
        {
          "output_type": "stream",
          "name": "stdout",
          "text": [
            "None\n"
          ]
        }
      ]
    },
    {
      "cell_type": "code",
      "source": [
        "import re\n",
        "pattern = '\\S+'\n",
        "\n",
        "new_iroh_2 = [re.findall(pattern, x) for x in iroh_list]\n",
        "\n",
        "new_iroh_2[:1]\n",
        "\n"
      ],
      "metadata": {
        "colab": {
          "base_uri": "https://localhost:8080/"
        },
        "id": "0OjpE5Zf3Izd",
        "outputId": "26cff46c-2cb6-418f-d32a-f2a2f151426f"
      },
      "execution_count": 39,
      "outputs": [
        {
          "output_type": "execute_result",
          "data": {
            "text/plain": [
              "[['20',\n",
              "  '\"THERE',\n",
              "  'IS',\n",
              "  'NOTHING',\n",
              "  'WRONG',\n",
              "  'WITH',\n",
              "  'A',\n",
              "  'LIFE',\n",
              "  'OF',\n",
              "  'PEACE',\n",
              "  'AND',\n",
              "  'PROSPERITY.',\n",
              "  'I',\n",
              "  'SUGGEST',\n",
              "  'YOU',\n",
              "  'THINK',\n",
              "  'ABOUT',\n",
              "  'WHAT',\n",
              "  'IT',\n",
              "  'IS',\n",
              "  'YOU',\n",
              "  'WANT',\n",
              "  'FROM',\n",
              "  'YOUR',\n",
              "  'LIFE.\"']]"
            ]
          },
          "metadata": {},
          "execution_count": 39
        }
      ]
    },
    {
      "cell_type": "code",
      "source": [
        "new_iroh_3 = []\n",
        "\n",
        "\n",
        "for x in new_iroh_2:\n",
        "  sub = []\n",
        "  for y in x: \n",
        "    if not y.isdigit(): \n",
        "      sub.append(y)\n",
        "  new_iroh_3.append(\" \".join(sub))\n",
        "\n",
        "new_iroh_3 \n"
      ],
      "metadata": {
        "colab": {
          "base_uri": "https://localhost:8080/"
        },
        "id": "50Yk4euhWMs1",
        "outputId": "49197d97-f1ab-4bb7-e39c-f4348fc8da26"
      },
      "execution_count": 43,
      "outputs": [
        {
          "output_type": "execute_result",
          "data": {
            "text/plain": [
              "['\"THERE IS NOTHING WRONG WITH A LIFE OF PEACE AND PROSPERITY. I SUGGEST YOU THINK ABOUT WHAT IT IS YOU WANT FROM YOUR LIFE.\"',\n",
              " '\"BE CAREFUL WHAT YOU WISH FOR, ADMIRAL. HISTORY IS NOT ALWAYS KIND TO ITS SUBJECTS.\"',\n",
              " '\"AT MY AGE, THERE IS ONLY ONE BIG SURPRISE LEFT, AND I\\'D JUST AS SOON LEAVE IT A MYSTERY\"',\n",
              " '\"FAILURE IS ONLY THE OPPORTUNITY TO BEGIN AGAIN.\"',\n",
              " '\"SOMETIMES, THE BEST WAY TO SOLVE YOUR OWN PROBLEMS IS TO HELP SOMEONE ELSE.\"',\n",
              " '“PROTECTION AND POWER ARE OVERRATED. I THINK YOU ARE VERY WISE TO CHOOSE HAPPINESS AND LOVE.”',\n",
              " '\"GOOD TIMES BECOME GOOD MEMORIES, BUT BAD TIMES MAKE GOOD LESSONS.\"',\n",
              " '\"IT IS USUALLY BEST TO ADMIT MISTAKES WHEN THEY OCCUR, AND TO SEEK TO RESTORE HONOR.\"',\n",
              " '“POWER IN FIREBENDING COMES FROM THE BREATH, NOT THE MUSCLE!”',\n",
              " '\"IT IS IMPORTANT TO DRAW WISDOM FROM MANY DIFFERENT PLACES.\"',\n",
              " '\"IT\\'S TIME FOR YOU TO LOOK INWARD AND START ASKING YOURSELF THE BIG QUESTION: WHO ARE YOU AND WHAT DO YOU WANT?\"',\n",
              " '\"IF YOU LOOK FOR THE DARK, THAT IS ALL YOU WILL EVER SEE.\"',\n",
              " '\"SHARING TEA WITH A FASCINATING STRANGER IS ONE OF LIFE’S TRUE DELIGHTS.\"',\n",
              " '\"HOPE IS SOMETHING YOU GIVE YOURSELF. THAT IS THE MEANING OF INNER STRENGTH.\"',\n",
              " '\"SOMETIMES LIFE IS LIKE THIS DARK TUNNEL.\"',\n",
              " '\"DESTINY IS A FUNNY THING. YOU NEVER KNOW HOW THINGS ARE GOING TO WORK OUT.\"',\n",
              " '\"WHILE IT IS ALWAYS BEST TO BELIEVE IN ONESELF, A LITTLE HELP FROM OTHERS CAN BE A GREAT BLESSING.\"',\n",
              " '\"PRIDE IS NOT THE OPPOSITE OF SHAME, BUT ITS SOURCE. TRUE HUMILITY IS THE ONLY ANTIDOTE TO SHAME.\"',\n",
              " '\"LIFE HAPPENS WHEREVER YOU ARE, WHETHER YOU MAKE IT OR NOT.\"',\n",
              " '“I WAS NEVER ANGRY WITH YOU. I WAS SAD, BECAUSE I WAS AFRAID YOU’D LOSE YOUR WAY.”']"
            ]
          },
          "metadata": {},
          "execution_count": 43
        }
      ]
    },
    {
      "cell_type": "code",
      "source": [
        "new_iroh_2_len = [len(x) for x in new_iroh_2]\n",
        "new_iroh_2_len"
      ],
      "metadata": {
        "colab": {
          "base_uri": "https://localhost:8080/"
        },
        "id": "CAxhQ4YfU2cW",
        "outputId": "530beb30-9a32-41c1-a483-c07234541ee6"
      },
      "execution_count": 36,
      "outputs": [
        {
          "output_type": "execute_result",
          "data": {
            "text/plain": [
              "[25, 16, 20, 9, 15, 17, 12, 17, 11, 11, 23, 14, 13, 14, 8, 16, 20, 19, 12, 18]"
            ]
          },
          "metadata": {},
          "execution_count": 36
        }
      ]
    },
    {
      "cell_type": "code",
      "source": [
        ""
      ],
      "metadata": {
        "id": "0KxIrKN0Vq_f"
      },
      "execution_count": null,
      "outputs": []
    }
  ]
}